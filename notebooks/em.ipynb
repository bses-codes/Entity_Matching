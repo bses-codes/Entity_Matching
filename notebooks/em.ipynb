{
 "cells": [
  {
   "metadata": {
    "ExecuteTime": {
     "end_time": "2024-05-22T05:32:10.115763Z",
     "start_time": "2024-05-22T05:32:09.421813Z"
    }
   },
   "cell_type": "code",
   "source": [
    "import csv\n",
    "import pandas as pd\n",
    "from sklearn.feature_extraction.text import TfidfVectorizer\n",
    "from sklearn.neighbors import NearestNeighbors\n",
    "from datetime import datetime"
   ],
   "id": "efd8a6e571d86dc",
   "execution_count": 1,
   "outputs": []
  },
  {
   "metadata": {
    "ExecuteTime": {
     "end_time": "2024-05-22T05:35:06.001217Z",
     "start_time": "2024-05-22T05:35:05.996220Z"
    }
   },
   "cell_type": "code",
   "source": [
    "lengths_from_file = {}\n",
    "with open('dataframe_lengths.csv', mode='r') as file:\n",
    "    reader = csv.reader(file)\n",
    "    next(reader)  # Skip the header row\n",
    "    for row in reader:\n",
    "        dataframe_name, length = row\n",
    "        lengths_from_file[dataframe_name] = int(length)"
   ],
   "id": "4f8fdc721d87314f",
   "execution_count": 34,
   "outputs": []
  },
  {
   "metadata": {
    "ExecuteTime": {
     "end_time": "2024-05-22T05:32:19.324575Z",
     "start_time": "2024-05-22T05:32:19.319199Z"
    }
   },
   "cell_type": "code",
   "source": "lengths_from_file",
   "id": "b3a13b170dffa230",
   "execution_count": 3,
   "outputs": []
  },
  {
   "metadata": {
    "ExecuteTime": {
     "end_time": "2024-05-22T05:32:32.694104Z",
     "start_time": "2024-05-22T05:32:32.689046Z"
    }
   },
   "cell_type": "code",
   "source": [
    "lay1 = pd.read_csv('ABC_layout_1.csv')\n",
    "del lay1['Last Name']\n",
    "lay1c = lay1.copy().loc[lengths_from_file['lay1']:]\n",
    "# lay1"
   ],
   "id": "f8ab986af2828bb",
   "execution_count": 4,
   "outputs": []
  },
  {
   "metadata": {
    "ExecuteTime": {
     "end_time": "2024-05-22T05:32:33.011135Z",
     "start_time": "2024-05-22T05:32:33.007561Z"
    }
   },
   "cell_type": "code",
   "source": [
    "lay2 = pd.read_csv('PQR_layout_2.csv')\n",
    "lay2.drop(columns=['Unnamed: 0'], inplace=True)\n",
    "lay2c = lay2.copy().iloc[lengths_from_file['lay2']:]"
   ],
   "id": "18c5caae32528b08",
   "execution_count": 5,
   "outputs": []
  },
  {
   "metadata": {
    "ExecuteTime": {
     "end_time": "2024-05-22T05:32:33.374967Z",
     "start_time": "2024-05-22T05:32:33.371676Z"
    }
   },
   "cell_type": "code",
   "source": [
    "lay3 = pd.read_csv('XYZ_layout_3.csv')\n",
    "lay3c= lay3.copy().iloc[lengths_from_file['lay3']:]"
   ],
   "id": "560e28cc7a5b08fc",
   "execution_count": 6,
   "outputs": []
  },
  {
   "metadata": {
    "ExecuteTime": {
     "end_time": "2024-05-22T05:32:33.688602Z",
     "start_time": "2024-05-22T05:32:33.684409Z"
    }
   },
   "cell_type": "code",
   "source": [
    "lay4 = pd.read_csv('KLM_layout_4.csv')\n",
    "lay4.drop(columns=['Unnamed: 0'], inplace=True)\n",
    "lay4c = lay4.copy().iloc[lengths_from_file['lay4']:]"
   ],
   "id": "f9a762e692606ea4",
   "execution_count": 7,
   "outputs": []
  },
  {
   "metadata": {
    "ExecuteTime": {
     "end_time": "2024-05-22T05:32:34.045752Z",
     "start_time": "2024-05-22T05:32:34.042659Z"
    }
   },
   "cell_type": "code",
   "source": [
    "lay5 = pd.read_csv('DOTM_layout_5.csv')\n",
    "lay5c = lay5.copy().iloc[lengths_from_file['lay5']:]"
   ],
   "id": "93db57c2b43c19b5",
   "execution_count": 8,
   "outputs": []
  },
  {
   "metadata": {
    "ExecuteTime": {
     "end_time": "2024-05-22T05:32:34.737679Z",
     "start_time": "2024-05-22T05:32:34.734625Z"
    }
   },
   "cell_type": "code",
   "source": [
    "dataframes = [lay1,lay2,lay3,lay4,lay5]\n",
    "lengths = {f'lay{i+1}': len(dataframe) for i, dataframe in enumerate(dataframes)}\n",
    "with open('dataframe_lengths.csv', mode='w', newline='') as file:\n",
    "    writer = csv.writer(file)\n",
    "    writer.writerow(['DataFrame', 'Length'])\n",
    "    for name, length in lengths.items():\n",
    "        writer.writerow([name, length])"
   ],
   "id": "b29ebfea25bd7943",
   "execution_count": 9,
   "outputs": []
  },
  {
   "metadata": {
    "ExecuteTime": {
     "end_time": "2024-05-22T05:32:35.004811Z",
     "start_time": "2024-05-22T05:32:35.002446Z"
    }
   },
   "cell_type": "code",
   "source": [
    "def merge_columns(df):\n",
    "    # List columns ending with _x and _y\n",
    "    merge_cols = [col[:-2] for col in df.columns if col.endswith('_x')]\n",
    "    \n",
    "    for col in merge_cols:\n",
    "        col_x = f'{col}_x'\n",
    "        col_y = f'{col}_y'\n",
    "        df[col] = df[col_x].combine_first(df[col_y])\n",
    "    \n",
    "    # Drop _x and _y columns\n",
    "    drop_cols = [col for col in df.columns if col.endswith('_x') or col.endswith('_y')]\n",
    "    df.drop(drop_cols, axis=1, inplace=True)\n",
    "    \n",
    "    return df"
   ],
   "id": "74ff532b6a8c6fe",
   "execution_count": 10,
   "outputs": []
  },
  {
   "metadata": {
    "ExecuteTime": {
     "end_time": "2024-05-22T05:32:35.212631Z",
     "start_time": "2024-05-22T05:32:35.209185Z"
    }
   },
   "cell_type": "code",
   "source": [
    "def combine_columns(df, column_names, new_column_name):\n",
    "    if not all(col in df.columns for col in column_names):\n",
    "        raise ValueError(\"Some column names do not exist in the DataFrame\")\n",
    "    \n",
    "    def transform_date(date):\n",
    "        if pd.isna(date):\n",
    "            return ''\n",
    "        f_date = date.replace('-', '')\n",
    "        return f_date\n",
    "\n",
    "    def transform_address(address):\n",
    "        if pd.isna(address):\n",
    "            return ''\n",
    "        address = address.replace(',', '').replace(' ', '').replace('Nepal', '')\n",
    "        return address\n",
    "\n",
    "    def transform_name(name):\n",
    "        if pd.isna(name):\n",
    "            return ''\n",
    "        f_name = name.replace(' ', '')\n",
    "        return f_name\n",
    "    \n",
    "    df.columns = df.columns.str.lower()\n",
    "    columns = [item.lower() for item in column_names]\n",
    "    for col in columns:\n",
    "        if 'date' in col:\n",
    "            df[col] = df[col].apply(transform_date)\n",
    "        elif 'address' in col:\n",
    "            df[col] = df[col].apply(transform_address)\n",
    "        elif 'name' in col:\n",
    "            df[col] = df[col].apply(transform_name)\n",
    "    df[new_column_name] = df[columns].astype(str).agg(' '.join, axis=1)\n",
    "    return df"
   ],
   "id": "faded8b33a1f5452",
   "execution_count": 11,
   "outputs": []
  },
  {
   "metadata": {
    "ExecuteTime": {
     "end_time": "2024-05-22T05:32:35.398844Z",
     "start_time": "2024-05-22T05:32:35.394791Z"
    }
   },
   "cell_type": "code",
   "source": [
    "df = lay1c.copy()\n",
    "df = combine_columns(lay1.copy(),['Name','Father Name','Date of Birth'], 'combined')\n",
    "# df"
   ],
   "id": "c42d8c5bb6d23181",
   "execution_count": 12,
   "outputs": []
  },
  {
   "metadata": {
    "ExecuteTime": {
     "end_time": "2024-05-22T05:32:35.734971Z",
     "start_time": "2024-05-22T05:32:35.730167Z"
    }
   },
   "cell_type": "code",
   "source": [
    "df1 = lay2c.iloc[lengths_from_file['lay2']:].copy()\n",
    "df1 = combine_columns(lay2.copy(),['Name','Father Name','Date of Birth'], 'combined')"
   ],
   "id": "bdfa9003ff5a1369",
   "execution_count": 13,
   "outputs": []
  },
  {
   "metadata": {
    "ExecuteTime": {
     "end_time": "2024-05-22T05:32:35.942380Z",
     "start_time": "2024-05-22T05:32:35.938876Z"
    }
   },
   "cell_type": "code",
   "source": [
    "def combine(odf, odf1, df, df1, Pid1, Pid2):\n",
    "    vectorizer = TfidfVectorizer()\n",
    "    df_tfidf_matrix = vectorizer.fit_transform(df['combined'])\n",
    "    df1_tfidf_matrix = vectorizer.transform(df1['combined'])\n",
    "    knn = NearestNeighbors(metric='cosine', algorithm='brute')\n",
    "    knn.fit(df_tfidf_matrix)\n",
    "    distances, indices = knn.kneighbors(df1_tfidf_matrix, n_neighbors=1)\n",
    "    \n",
    "    matches = []\n",
    "    for i in range(len(df1)):\n",
    "        match_id = df.iloc[indices[i][0]][Pid1.lower()]\n",
    "        lookup_id = df1.iloc[i][Pid2.lower()]\n",
    "        distance = distances[i][0]\n",
    "        if distance < 0.5:\n",
    "            matches.append((lookup_id, match_id, distance))\n",
    "        else:\n",
    "            matches.append((lookup_id, None, distance))\n",
    "    \n",
    "    matches_df = pd.DataFrame(matches, columns=['lookup_id', 'matched_id', 'distance'])\n",
    "    \n",
    "    odf1 = odf1.merge(matches_df[['matched_id', 'lookup_id']], left_on=Pid2, right_on='lookup_id', how='left')\n",
    "    odf1.drop(columns=['lookup_id'], inplace=True)\n",
    "    \n",
    "    merged_df = odf1.merge(odf, left_on='matched_id', right_on=Pid1, how='left')\n",
    "    merged_df.drop(columns=['matched_id'], inplace=True)\n",
    "    \n",
    "    return merged_df"
   ],
   "id": "8693886c2f672111",
   "execution_count": 14,
   "outputs": []
  },
  {
   "metadata": {
    "ExecuteTime": {
     "end_time": "2024-05-22T05:32:36.173462Z",
     "start_time": "2024-05-22T05:32:36.166209Z"
    }
   },
   "cell_type": "code",
   "source": "c_df1 = combine(lay1c,lay2c,df,df1,'Customer Code','Customer ID')",
   "id": "87d58c7547f4e1d7",
   "execution_count": 15,
   "outputs": []
  },
  {
   "metadata": {
    "ExecuteTime": {
     "end_time": "2024-05-22T05:32:36.451872Z",
     "start_time": "2024-05-22T05:32:36.449397Z"
    }
   },
   "cell_type": "code",
   "source": "c_df1.drop(columns=['Customer ID'], inplace=True)",
   "id": "c70d3c264e278504",
   "execution_count": 16,
   "outputs": []
  },
  {
   "metadata": {
    "ExecuteTime": {
     "end_time": "2024-05-22T05:32:36.647821Z",
     "start_time": "2024-05-22T05:32:36.644266Z"
    }
   },
   "cell_type": "code",
   "source": "c_df1 = merge_columns(c_df1.copy())\n",
   "id": "8661dd44afaba870",
   "execution_count": 17,
   "outputs": []
  },
  {
   "metadata": {
    "ExecuteTime": {
     "end_time": "2024-05-22T05:32:36.838610Z",
     "start_time": "2024-05-22T05:32:36.832044Z"
    }
   },
   "cell_type": "code",
   "source": "c_df1",
   "id": "47c2dd4c8174cf5e",
   "execution_count": 18,
   "outputs": []
  },
  {
   "metadata": {
    "ExecuteTime": {
     "end_time": "2024-05-22T05:32:47.875440Z",
     "start_time": "2024-05-22T05:32:47.871789Z"
    }
   },
   "cell_type": "code",
   "source": [
    "copy_c_df1 = c_df1.copy()\n",
    "copy_c_df1 = combine_columns(copy_c_df1, ['Name','Father Name','Date of Birth'], 'combined')"
   ],
   "id": "b06942b5ebd4bfb9",
   "execution_count": 19,
   "outputs": []
  },
  {
   "metadata": {
    "ExecuteTime": {
     "end_time": "2024-05-22T05:32:47.886037Z",
     "start_time": "2024-05-22T05:32:47.877322Z"
    }
   },
   "cell_type": "code",
   "source": [
    "df3 = combine_columns(lay3c.copy(), ['Name','Father Name', 'Date of Birth'], 'combined')\n",
    "c_df2 = combine(c_df1,lay3c,copy_c_df1,df3,'Customer Code','votersID')"
   ],
   "id": "9440425c145ec49a",
   "execution_count": 20,
   "outputs": []
  },
  {
   "metadata": {
    "ExecuteTime": {
     "end_time": "2024-05-22T05:32:47.890755Z",
     "start_time": "2024-05-22T05:32:47.886683Z"
    }
   },
   "cell_type": "code",
   "source": "c_df2 = merge_columns(c_df2.copy())",
   "id": "fbde3a96da5e2ede",
   "execution_count": 21,
   "outputs": []
  },
  {
   "metadata": {
    "ExecuteTime": {
     "end_time": "2024-05-22T05:32:47.894478Z",
     "start_time": "2024-05-22T05:32:47.891444Z"
    }
   },
   "cell_type": "code",
   "source": [
    "copy_c_df2 = c_df2.copy()\n",
    "copy_c_df2 = combine_columns(copy_c_df2, ['Name','Father Name','Date of Birth'], 'combined')"
   ],
   "id": "2103c845f6da6c30",
   "execution_count": 22,
   "outputs": []
  },
  {
   "metadata": {
    "ExecuteTime": {
     "end_time": "2024-05-22T05:32:47.902593Z",
     "start_time": "2024-05-22T05:32:47.895021Z"
    }
   },
   "cell_type": "code",
   "source": [
    "df4 = combine_columns(lay5c.copy(),['Name','Father Name','Date of Birth'], 'combined')\n",
    "c_df3 = combine(c_df2,lay5c,copy_c_df2,df4,'Customer Code','License Number')"
   ],
   "id": "bada3d5ac6862931",
   "execution_count": 23,
   "outputs": []
  },
  {
   "metadata": {
    "ExecuteTime": {
     "end_time": "2024-05-22T05:32:47.907168Z",
     "start_time": "2024-05-22T05:32:47.903090Z"
    }
   },
   "cell_type": "code",
   "source": "c_df3 = merge_columns(c_df3.copy())",
   "id": "c635fe9a188f48bc",
   "execution_count": 24,
   "outputs": []
  },
  {
   "metadata": {
    "ExecuteTime": {
     "end_time": "2024-05-22T05:32:47.910966Z",
     "start_time": "2024-05-22T05:32:47.907806Z"
    }
   },
   "cell_type": "code",
   "source": [
    "copy_c_df3 = c_df3.copy()\n",
    "copy_c_df3 = combine_columns(copy_c_df3, ['Name','Father Name','Date of Birth'], 'combined')"
   ],
   "id": "6bbe5f665029417f",
   "execution_count": 25,
   "outputs": []
  },
  {
   "metadata": {
    "ExecuteTime": {
     "end_time": "2024-05-22T05:32:47.919759Z",
     "start_time": "2024-05-22T05:32:47.912685Z"
    }
   },
   "cell_type": "code",
   "source": [
    "df5 = combine_columns(lay4c.copy(),['Name','Father Name','Date of Birth'], 'combined')\n",
    "c_df4 = combine(c_df3,lay4c,copy_c_df3,df5,'Customer Code','Customer ID')"
   ],
   "id": "5babcf2ec3eb3da7",
   "execution_count": 26,
   "outputs": []
  },
  {
   "metadata": {
    "ExecuteTime": {
     "end_time": "2024-05-22T05:32:47.923481Z",
     "start_time": "2024-05-22T05:32:47.920244Z"
    }
   },
   "cell_type": "code",
   "source": "c_df4 = merge_columns(c_df4.copy())",
   "id": "c02f0ab55c5588e4",
   "execution_count": 27,
   "outputs": []
  },
  {
   "metadata": {
    "ExecuteTime": {
     "end_time": "2024-05-22T05:32:47.943311Z",
     "start_time": "2024-05-22T05:32:47.924249Z"
    }
   },
   "cell_type": "code",
   "source": [
    "final_df = c_df4[['Name','Date of Birth','Gender','Father Name','Mother Name','Permanent Address','Mobile Number','Temporary Address','Citizenship Number','License Number','Blood Group']]\n",
    "final_df['Updated Date'] = datetime.today().strftime('%Y-%m-%d')"
   ],
   "id": "8c0ae6d6defc37db",
   "execution_count": 28,
   "outputs": []
  },
  {
   "metadata": {
    "ExecuteTime": {
     "end_time": "2024-05-22T05:32:47.953772Z",
     "start_time": "2024-05-22T05:32:47.944640Z"
    }
   },
   "cell_type": "code",
   "source": "final_df",
   "id": "57c1b2af975a632b",
   "execution_count": 29,
   "outputs": []
  },
  {
   "metadata": {
    "ExecuteTime": {
     "end_time": "2024-05-22T05:33:04.129147Z",
     "start_time": "2024-05-22T05:33:04.125439Z"
    }
   },
   "cell_type": "code",
   "source": [
    "import string\n",
    "import random\n",
    "\n",
    "def generate_unique_id(df):\n",
    "\n",
    "    if 'uid' not in df.columns:\n",
    "        df['uid'] = ''\n",
    "\n",
    "    for i in range(len(df)):\n",
    "        if df.loc[i, 'uid'] == '' or pd.isna(df.loc[i, 'uid']):\n",
    "            chars = string.ascii_uppercase + string.digits\n",
    "            uid = ''.join(random.choice(chars) for _ in range(10))\n",
    "            while uid in df['uid'].unique():\n",
    "                uid = ''.join(random.choice(chars) for _ in range(10))\n",
    "            df.loc[i, 'uid'] = uid\n",
    "\n",
    "    return df"
   ],
   "id": "72ebd034af4ed503",
   "execution_count": 30,
   "outputs": []
  },
  {
   "metadata": {
    "ExecuteTime": {
     "end_time": "2024-05-22T05:33:06.411712Z",
     "start_time": "2024-05-22T05:33:06.401713Z"
    }
   },
   "cell_type": "code",
   "source": [
    "final_df = generate_unique_id(final_df.copy())\n",
    "final_df"
   ],
   "id": "2cc5ecb7027e2131",
   "execution_count": 31,
   "outputs": []
  },
  {
   "metadata": {},
   "cell_type": "code",
   "execution_count": null,
   "source": "",
   "id": "386ef014a9039c08",
   "outputs": []
  },
  {
   "metadata": {
    "ExecuteTime": {
     "end_time": "2024-05-22T04:46:33.280025Z",
     "start_time": "2024-05-22T04:46:33.276626Z"
    }
   },
   "cell_type": "code",
   "source": [
    "new_data = {\n",
    "    'ID':'112233',\n",
    "    'Name': 'Alice Johnson',\n",
    "    'Date of Birth': '1992-07-07',\n",
    "    'Father Name': 'Dinesh Johnson',\n",
    "    'Gender': 'F',\n",
    "    'Email': 'alice@example.com',\n",
    "    'Permanent Address': '789 Maple St'\n",
    "}\n",
    "\n",
    "new_df = pd.DataFrame([new_data])"
   ],
   "id": "3a0c41e7c0d3ac70",
   "execution_count": 30,
   "outputs": []
  },
  {
   "metadata": {
    "ExecuteTime": {
     "end_time": "2024-05-22T04:46:34.763408Z",
     "start_time": "2024-05-22T04:46:34.755285Z"
    }
   },
   "cell_type": "code",
   "source": [
    "data = combine_columns(new_df.copy(),['Name','Father Name','Date of Birth'],'combined')\n",
    "data"
   ],
   "id": "69d9dd53251e23d6",
   "execution_count": 31,
   "outputs": []
  },
  {
   "metadata": {
    "ExecuteTime": {
     "end_time": "2024-05-22T04:46:36.584049Z",
     "start_time": "2024-05-22T04:46:36.579848Z"
    }
   },
   "cell_type": "code",
   "source": [
    "df8 = final_df.copy()\n",
    "df8 = combine_columns(df8,['Name','Father Name','Date of Birth'],'combined')"
   ],
   "id": "5ec7d0554e440406",
   "execution_count": 32,
   "outputs": []
  },
  {
   "metadata": {
    "ExecuteTime": {
     "end_time": "2024-05-22T04:46:38.777757Z",
     "start_time": "2024-05-22T04:46:38.770943Z"
    }
   },
   "cell_type": "code",
   "source": "nnew_df = combine(final_df,new_df,df8,data,'Citizenship Number','ID')",
   "id": "768e47521391fb96",
   "execution_count": 33,
   "outputs": []
  },
  {
   "metadata": {
    "ExecuteTime": {
     "end_time": "2024-05-22T04:46:39.358186Z",
     "start_time": "2024-05-22T04:46:39.351515Z"
    }
   },
   "cell_type": "code",
   "source": "nnew_df",
   "id": "b3fa7bb71a567aa1",
   "execution_count": 34,
   "outputs": []
  },
  {
   "metadata": {
    "ExecuteTime": {
     "end_time": "2024-05-22T04:46:40.875614Z",
     "start_time": "2024-05-22T04:46:40.869652Z"
    }
   },
   "cell_type": "code",
   "source": [
    "nnew_df['Date of Birth'] = nnew_df['Date of Birth_x'].combine_first(nnew_df['Date of Birth_y'])\n",
    "nnew_df['Name'] = nnew_df['Name_x'].combine_first(nnew_df['Name_y'])\n",
    "nnew_df['Father Name'] = nnew_df['Father Name_x'].combine_first(nnew_df['Father Name_y'])\n",
    "nnew_df['Permanent Address'] = nnew_df['Permanent Address_x'].combine_first(nnew_df['Permanent Address_y'])\n",
    "nnew_df['Gender'] = nnew_df['Gender_x'].combine_first(nnew_df['Gender_y'])\n",
    "nnew_df.drop(\n",
    "    ['Date of Birth_x', 'Date of Birth_y', 'Name_x', 'Name_y', 'Father Name_x', 'Father Name_y','Gender_x','Gender_y','Permanent Address_x','Permanent Address_y'], axis=1, inplace=True)"
   ],
   "id": "c5eaa2e751e4fa42",
   "execution_count": 35,
   "outputs": []
  },
  {
   "metadata": {
    "ExecuteTime": {
     "end_time": "2024-05-22T04:46:41.397425Z",
     "start_time": "2024-05-22T04:46:41.394209Z"
    }
   },
   "cell_type": "code",
   "source": "nnew_df.drop('ID', axis=1, inplace=True)",
   "id": "fb47f867011d2ada",
   "execution_count": 36,
   "outputs": []
  },
  {
   "metadata": {
    "ExecuteTime": {
     "end_time": "2024-05-22T04:46:42.383962Z",
     "start_time": "2024-05-22T04:46:42.376305Z"
    }
   },
   "cell_type": "code",
   "source": "final_df",
   "id": "58e9356714e5f6b9",
   "execution_count": 37,
   "outputs": []
  },
  {
   "metadata": {
    "ExecuteTime": {
     "end_time": "2024-05-22T04:46:53.048382Z",
     "start_time": "2024-05-22T04:46:53.045702Z"
    }
   },
   "cell_type": "code",
   "source": "concatenated_df = pd.concat([final_df,nnew_df],ignore_index=True)",
   "id": "bf6ae07cd05c70bd",
   "execution_count": 38,
   "outputs": []
  },
  {
   "metadata": {
    "ExecuteTime": {
     "end_time": "2024-05-22T04:46:58.162951Z",
     "start_time": "2024-05-22T04:46:58.153291Z"
    }
   },
   "cell_type": "code",
   "source": [
    "concatenated_df = generate_unique_id(concatenated_df.copy())\n",
    "concatenated_df"
   ],
   "id": "b62825c3754912d5",
   "execution_count": 39,
   "outputs": []
  },
  {
   "metadata": {
    "ExecuteTime": {
     "end_time": "2024-05-22T05:35:17.643620Z",
     "start_time": "2024-05-22T05:35:17.639973Z"
    }
   },
   "cell_type": "code",
   "source": [
    "lay5 = pd.read_csv('DOTM_layout_5.csv')\n",
    "lay5c = lay5.copy().iloc[lengths_from_file['lay5']:]"
   ],
   "id": "9dd5e3c0237fb068",
   "execution_count": 35,
   "outputs": []
  },
  {
   "metadata": {
    "ExecuteTime": {
     "end_time": "2024-05-22T05:35:18.202812Z",
     "start_time": "2024-05-22T05:35:18.198716Z"
    }
   },
   "cell_type": "code",
   "source": "lay5c",
   "id": "e581156678ff800",
   "execution_count": 36,
   "outputs": []
  },
  {
   "metadata": {
    "ExecuteTime": {
     "end_time": "2024-05-22T05:35:26.960857Z",
     "start_time": "2024-05-22T05:35:26.952665Z"
    }
   },
   "cell_type": "code",
   "source": [
    "copy_lay5c = lay5c.copy()\n",
    "copy_lay5c = combine_columns(copy_lay5c, ['Name','Father Name','Date of Birth'], 'combined')\n",
    "copy_lay5c"
   ],
   "id": "61e554d0b3a99b08",
   "execution_count": 37,
   "outputs": []
  },
  {
   "metadata": {
    "ExecuteTime": {
     "end_time": "2024-05-22T05:35:33.230835Z",
     "start_time": "2024-05-22T05:35:33.222543Z"
    }
   },
   "cell_type": "code",
   "source": [
    "df9 = final_df.copy()\n",
    "df9 = combine_columns(df9,['Name','Father Name','Date of Birth'],'combined')\n",
    "df9"
   ],
   "id": "cc1155e5871331f",
   "execution_count": 38,
   "outputs": []
  },
  {
   "metadata": {
    "ExecuteTime": {
     "end_time": "2024-05-22T05:35:47.235992Z",
     "start_time": "2024-05-22T05:35:47.228381Z"
    }
   },
   "cell_type": "code",
   "source": "new_df = combine(final_df,lay5c,df9,copy_lay5c,'Citizenship Number','License Number')",
   "id": "a37610649ea5265c",
   "execution_count": 39,
   "outputs": []
  },
  {
   "metadata": {
    "ExecuteTime": {
     "end_time": "2024-05-22T05:35:48.604942Z",
     "start_time": "2024-05-22T05:35:48.597068Z"
    }
   },
   "cell_type": "code",
   "source": "new_df",
   "id": "3b333a50ae759ed3",
   "execution_count": 40,
   "outputs": []
  },
  {
   "metadata": {
    "ExecuteTime": {
     "end_time": "2024-05-22T05:36:06.163850Z",
     "start_time": "2024-05-22T05:36:06.157594Z"
    }
   },
   "cell_type": "code",
   "source": "new_df = merge_columns(new_df.copy())",
   "id": "7aba1b57ea16f548",
   "execution_count": 41,
   "outputs": []
  },
  {
   "metadata": {
    "ExecuteTime": {
     "end_time": "2024-05-22T05:36:09.857915Z",
     "start_time": "2024-05-22T05:36:09.851385Z"
    }
   },
   "cell_type": "code",
   "source": "new_df",
   "id": "e593a467eda6b276",
   "execution_count": 42,
   "outputs": []
  },
  {
   "metadata": {
    "ExecuteTime": {
     "end_time": "2024-05-22T05:36:24.408986Z",
     "start_time": "2024-05-22T05:36:24.404772Z"
    }
   },
   "cell_type": "code",
   "source": "concatenated_df = pd.concat([final_df,new_df],ignore_index=True)",
   "id": "2fb03c0dc4b67ead",
   "execution_count": 43,
   "outputs": []
  },
  {
   "metadata": {
    "ExecuteTime": {
     "end_time": "2024-05-22T05:36:49.025674Z",
     "start_time": "2024-05-22T05:36:49.017710Z"
    }
   },
   "cell_type": "code",
   "source": [
    "concatenated_df = generate_unique_id(concatenated_df.copy())\n",
    "concatenated_df"
   ],
   "id": "55469433516795e2",
   "execution_count": 44,
   "outputs": []
  }
 ],
 "metadata": {
  "kernelspec": {
   "display_name": "Python 3",
   "language": "python",
   "name": "python3"
  },
  "language_info": {
   "codemirror_mode": {
    "name": "ipython",
    "version": 2
   },
   "file_extension": ".py",
   "mimetype": "text/x-python",
   "name": "python",
   "nbconvert_exporter": "python",
   "pygments_lexer": "ipython2",
   "version": "2.7.6"
  }
 },
 "nbformat": 4,
 "nbformat_minor": 5
}
